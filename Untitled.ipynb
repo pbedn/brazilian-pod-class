{
 "cells": [
  {
   "cell_type": "code",
   "execution_count": 1,
   "metadata": {},
   "outputs": [],
   "source": [
    "from requests_html import HTMLSession\n",
    "session = HTMLSession()\n",
    "\n",
    "url = \"https://web.archive.org/web/20170621070901/http://www.brazilianpodclass.com:80/smart-search/\"\n",
    "\n",
    "r = session.get(url)"
   ]
  },
  {
   "cell_type": "code",
   "execution_count": 42,
   "metadata": {},
   "outputs": [],
   "source": [
    "categories = r.html.find(\"#tabs ul\", first=True)\n",
    "categories = [e.lstrip(\"\\n\").replace(\"\\n\", \" \") for e in tabs.text.split('...')]"
   ]
  },
  {
   "cell_type": "code",
   "execution_count": 43,
   "metadata": {},
   "outputs": [
    {
     "data": {
      "text/plain": [
       "['Learn',\n",
       " 'Translate',\n",
       " 'Different uses of',\n",
       " 'Grammar point',\n",
       " 'Vocabulary related to',\n",
       " 'Levels Categories All Episodes']"
      ]
     },
     "execution_count": 43,
     "metadata": {},
     "output_type": "execute_result"
    }
   ],
   "source": [
    "categories"
   ]
  },
  {
   "cell_type": "code",
   "execution_count": 111,
   "metadata": {},
   "outputs": [
    {
     "ename": "KeyError",
     "evalue": "'HighBeginner'",
     "traceback": [
      "\u001b[0;31m---------------------------------------------------------------------------\u001b[0m",
      "\u001b[0;31mKeyError\u001b[0m                                  Traceback (most recent call last)",
      "\u001b[0;32m<ipython-input-111-5ff7bb7ec25b>\u001b[0m in \u001b[0;36m<module>\u001b[0;34m()\u001b[0m\n\u001b[1;32m     23\u001b[0m                 \u001b[0;32mcontinue\u001b[0m\u001b[0;34m\u001b[0m\u001b[0m\n\u001b[1;32m     24\u001b[0m             \u001b[0;32mif\u001b[0m \u001b[0;32mnot\u001b[0m \u001b[0mt\u001b[0m\u001b[0;34m[\u001b[0m\u001b[0;36m0\u001b[0m\u001b[0;34m]\u001b[0m\u001b[0;34m.\u001b[0m\u001b[0misdigit\u001b[0m\u001b[0;34m(\u001b[0m\u001b[0;34m)\u001b[0m\u001b[0;34m:\u001b[0m\u001b[0;34m\u001b[0m\u001b[0m\n\u001b[0;32m---> 25\u001b[0;31m                 \u001b[0mtemp\u001b[0m\u001b[0;34m[\u001b[0m\u001b[0mkey\u001b[0m\u001b[0;34m]\u001b[0m\u001b[0;34m.\u001b[0m\u001b[0mappend\u001b[0m\u001b[0;34m(\u001b[0m\u001b[0mlst\u001b[0m\u001b[0;34m)\u001b[0m\u001b[0;34m\u001b[0m\u001b[0m\n\u001b[0m\u001b[1;32m     26\u001b[0m                 \u001b[0mt\u001b[0m \u001b[0;34m=\u001b[0m \u001b[0mt\u001b[0m\u001b[0;34m.\u001b[0m\u001b[0mreplace\u001b[0m\u001b[0;34m(\u001b[0m\u001b[0;34m\" \"\u001b[0m\u001b[0;34m,\u001b[0m \u001b[0;34m\"\"\u001b[0m\u001b[0;34m)\u001b[0m\u001b[0;34m\u001b[0m\u001b[0m\n\u001b[1;32m     27\u001b[0m                 \u001b[0mkey\u001b[0m \u001b[0;34m=\u001b[0m \u001b[0mt\u001b[0m\u001b[0;34m\u001b[0m\u001b[0m\n",
      "\u001b[0;31mKeyError\u001b[0m: 'HighBeginner'"
     ],
     "output_type": "error"
    }
   ],
   "source": [
    "import json\n",
    "bad_url = 'https://web.archive.org/web/20170621070901/'\n",
    "dct = {}\n",
    "for i in range(1, 9):\n",
    "    tab = r.html.find(\"#tabs-{}\".format(i), first=True)\n",
    "    text = tab.text.split(\"\\n\")\n",
    "    header, text = text[0], text[1:]\n",
    "    links = [link.replace(bad_url, \"\") for link in tab.absolute_links]\n",
    "    \n",
    "    if len(text) == len(links):\n",
    "        pass\n",
    "#         dct = {**dct, **{header: list(zip(text, links))}}\n",
    "    elif header.startswith(\"Levels\"):\n",
    "        temp = {}\n",
    "        for i, t in enumerate(text):\n",
    "            if not t:\n",
    "                continue\n",
    "            if not t[0].isdigit() and i==0:\n",
    "                t = t.replace(\" \", \"\")\n",
    "                temp[t] = []\n",
    "                key = t\n",
    "                lst = []\n",
    "                continue\n",
    "            if not t[0].isdigit():\n",
    "                temp[key].append(lst)\n",
    "                t = t.replace(\" \", \"\")\n",
    "                key = t\n",
    "            lst.append(t)\n",
    "        dct = {**dct, **{temp}}\n",
    "    elif header.startswith(\"Categories\"):\n",
    "        print(header)\n",
    "    else:\n",
    "        print(\"Error: Unknown tab\", header)\n",
    "        raise\n",
    "with open('dump.json', 'w') as fout:\n",
    "    json.dump(fout)"
   ]
  },
  {
   "cell_type": "code",
   "execution_count": null,
   "metadata": {},
   "outputs": [],
   "source": []
  }
 ],
 "metadata": {
  "kernelspec": {
   "display_name": "Python 3",
   "language": "python",
   "name": "python3"
  },
  "language_info": {
   "codemirror_mode": {
    "name": "ipython",
    "version": 3
   },
   "file_extension": ".py",
   "mimetype": "text/x-python",
   "name": "python",
   "nbconvert_exporter": "python",
   "pygments_lexer": "ipython3",
   "version": "3.6.5"
  }
 },
 "nbformat": 4,
 "nbformat_minor": 2
}
